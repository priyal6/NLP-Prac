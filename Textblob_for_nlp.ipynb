{
  "nbformat": 4,
  "nbformat_minor": 0,
  "metadata": {
    "colab": {
      "provenance": [],
      "authorship_tag": "ABX9TyNXiEkYhSerBSw0vD8kmOm8",
      "include_colab_link": true
    },
    "kernelspec": {
      "name": "python3",
      "display_name": "Python 3"
    },
    "language_info": {
      "name": "python"
    }
  },
  "cells": [
    {
      "cell_type": "markdown",
      "metadata": {
        "id": "view-in-github",
        "colab_type": "text"
      },
      "source": [
        "<a href=\"https://colab.research.google.com/github/priyal6/NLP-Prac/blob/main/Textblob_for_nlp.ipynb\" target=\"_parent\"><img src=\"https://colab.research.google.com/assets/colab-badge.svg\" alt=\"Open In Colab\"/></a>"
      ]
    },
    {
      "cell_type": "markdown",
      "source": [
        "importing\n"
      ],
      "metadata": {
        "id": "yFal51SHih3B"
      }
    },
    {
      "cell_type": "code",
      "source": [
        "!python -m textblob.download_corpora"
      ],
      "metadata": {
        "colab": {
          "base_uri": "https://localhost:8080/"
        },
        "id": "YHyHREYlj3hy",
        "outputId": "aa589ee0-ed13-419b-b722-70414870eb5a"
      },
      "execution_count": 6,
      "outputs": [
        {
          "output_type": "stream",
          "name": "stdout",
          "text": [
            "[nltk_data] Downloading package brown to /root/nltk_data...\n",
            "[nltk_data]   Unzipping corpora/brown.zip.\n",
            "[nltk_data] Downloading package punkt_tab to /root/nltk_data...\n",
            "[nltk_data]   Unzipping tokenizers/punkt_tab.zip.\n",
            "[nltk_data] Downloading package wordnet to /root/nltk_data...\n",
            "[nltk_data] Downloading package averaged_perceptron_tagger_eng to\n",
            "[nltk_data]     /root/nltk_data...\n",
            "[nltk_data]   Unzipping taggers/averaged_perceptron_tagger_eng.zip.\n",
            "[nltk_data] Downloading package conll2000 to /root/nltk_data...\n",
            "[nltk_data]   Unzipping corpora/conll2000.zip.\n",
            "[nltk_data] Downloading package movie_reviews to /root/nltk_data...\n",
            "[nltk_data]   Unzipping corpora/movie_reviews.zip.\n",
            "Finished.\n"
          ]
        }
      ]
    },
    {
      "cell_type": "code",
      "execution_count": 1,
      "metadata": {
        "id": "SbEpphGsgVwI"
      },
      "outputs": [],
      "source": [
        "from textblob import TextBlob"
      ]
    },
    {
      "cell_type": "markdown",
      "source": [
        "TextBlob is a Python library for processing textual data. It provides a simple API for diving into common NLP tasks like:\n",
        "\n",
        "Sentiment analysis\n",
        "\n",
        "Part-of-speech tagging\n",
        "\n",
        "Tokenization\n",
        "\n",
        "Noun phrase extraction\n",
        "\n",
        "Translation and language detection\n",
        "\n",
        "Spelling correction\n",
        "\n"
      ],
      "metadata": {
        "id": "ZQc96srni5wW"
      }
    },
    {
      "cell_type": "code",
      "source": [
        "text = \"TextBlob is amazingly simple to use. What a great library!\"\n",
        "blob = TextBlob(text)\n",
        "\n",
        "print(blob.sentiment)"
      ],
      "metadata": {
        "colab": {
          "base_uri": "https://localhost:8080/"
        },
        "id": "0_aWF7V0i0x1",
        "outputId": "4faf0c12-a3e1-4f46-f481-ce691d2e5053"
      },
      "execution_count": 2,
      "outputs": [
        {
          "output_type": "stream",
          "name": "stdout",
          "text": [
            "Sentiment(polarity=0.5, subjectivity=0.5535714285714286)\n"
          ]
        }
      ]
    },
    {
      "cell_type": "code",
      "source": [
        "#tokenization\n",
        "print(blob.words)\n",
        "print(blob.sentences)"
      ],
      "metadata": {
        "colab": {
          "base_uri": "https://localhost:8080/"
        },
        "id": "F5QQ73a-jknQ",
        "outputId": "efb84e4f-19d9-4465-e915-8946e74e0e83"
      },
      "execution_count": 8,
      "outputs": [
        {
          "output_type": "stream",
          "name": "stdout",
          "text": [
            "['TextBlob', 'is', 'amazingly', 'simple', 'to', 'use', 'What', 'a', 'great', 'library']\n",
            "[Sentence(\"TextBlob is amazingly simple to use.\"), Sentence(\"What a great library!\")]\n"
          ]
        }
      ]
    },
    {
      "cell_type": "code",
      "source": [
        "#part of speech tagging\n",
        "print(blob.tags)"
      ],
      "metadata": {
        "colab": {
          "base_uri": "https://localhost:8080/"
        },
        "id": "joN6xu5IkIxI",
        "outputId": "bf3dafb7-8e90-4a9b-aed8-dce30cb59fa8"
      },
      "execution_count": 9,
      "outputs": [
        {
          "output_type": "stream",
          "name": "stdout",
          "text": [
            "[('TextBlob', 'NNP'), ('is', 'VBZ'), ('amazingly', 'RB'), ('simple', 'JJ'), ('to', 'TO'), ('use', 'VB'), ('What', 'WP'), ('a', 'DT'), ('great', 'JJ'), ('library', 'NN')]\n"
          ]
        }
      ]
    },
    {
      "cell_type": "code",
      "source": [
        "#noun phrase extraction\n",
        "print(blob.noun_phrases)"
      ],
      "metadata": {
        "colab": {
          "base_uri": "https://localhost:8080/"
        },
        "id": "-x55R0h0kYEA",
        "outputId": "c20b8672-adfc-46ab-ad55-51e17c13d617"
      },
      "execution_count": 10,
      "outputs": [
        {
          "output_type": "stream",
          "name": "stdout",
          "text": [
            "['textblob', 'great library']\n"
          ]
        }
      ]
    },
    {
      "cell_type": "code",
      "source": [
        "#spelling correction\n",
        "\n",
        "blob = TextBlob('i havv good spellling')\n",
        "print(blob.correct())"
      ],
      "metadata": {
        "colab": {
          "base_uri": "https://localhost:8080/"
        },
        "id": "H3r17EMbkhuT",
        "outputId": "626ac673-6b7f-494e-c6df-2bf987c33d35"
      },
      "execution_count": 11,
      "outputs": [
        {
          "output_type": "stream",
          "name": "stdout",
          "text": [
            "i have good spelling\n"
          ]
        }
      ]
    },
    {
      "cell_type": "code",
      "source": [
        "sentence = TextBlob(\"Use 4 spaces per indentation level.\")\n",
        "sentence.words\n",
        "sentence.words[2].singularize()\n",
        "sentence.words[-1].pluralize()\n"
      ],
      "metadata": {
        "colab": {
          "base_uri": "https://localhost:8080/",
          "height": 35
        },
        "id": "aY1ApeLLlS-2",
        "outputId": "3eba6b5a-ca2a-4ad7-d18c-f93ee18edb73"
      },
      "execution_count": 13,
      "outputs": [
        {
          "output_type": "execute_result",
          "data": {
            "text/plain": [
              "'levels'"
            ],
            "application/vnd.google.colaboratory.intrinsic+json": {
              "type": "string"
            }
          },
          "metadata": {},
          "execution_count": 13
        }
      ]
    },
    {
      "cell_type": "code",
      "source": [
        "#lemmatization\n",
        "from textblob import Word\n",
        "w = Word(\"octopi\")\n",
        "w.lemmatize()"
      ],
      "metadata": {
        "colab": {
          "base_uri": "https://localhost:8080/",
          "height": 35
        },
        "id": "C4M7_lzmlbNG",
        "outputId": "7abadc04-3b7e-47be-ee85-420a65aae1a4"
      },
      "execution_count": 14,
      "outputs": [
        {
          "output_type": "execute_result",
          "data": {
            "text/plain": [
              "'octopus'"
            ],
            "application/vnd.google.colaboratory.intrinsic+json": {
              "type": "string"
            }
          },
          "metadata": {},
          "execution_count": 14
        }
      ]
    },
    {
      "cell_type": "code",
      "source": [
        "w = Word('went')\n",
        "w.lemmatize()"
      ],
      "metadata": {
        "colab": {
          "base_uri": "https://localhost:8080/",
          "height": 35
        },
        "id": "Y4ND8IIrlm6O",
        "outputId": "e63167a6-0be0-4aa3-e731-29cd9d7498d8"
      },
      "execution_count": 15,
      "outputs": [
        {
          "output_type": "execute_result",
          "data": {
            "text/plain": [
              "'went'"
            ],
            "application/vnd.google.colaboratory.intrinsic+json": {
              "type": "string"
            }
          },
          "metadata": {},
          "execution_count": 15
        }
      ]
    },
    {
      "cell_type": "markdown",
      "source": [
        " Use Cases\n",
        "Quick sentiment analysis for social media posts\n",
        "\n",
        "Cleaning and pre-processing for text classification\n",
        "\n",
        "Building simple chatbots\n",
        "\n",
        "Basic grammar correction"
      ],
      "metadata": {
        "id": "_-MWDhKqk6CY"
      }
    }
  ]
}